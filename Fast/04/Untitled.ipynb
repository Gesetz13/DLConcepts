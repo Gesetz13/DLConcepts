{
 "cells": [
  {
   "cell_type": "markdown",
   "id": "172c1ee9",
   "metadata": {},
   "source": [
    "## Worum geht’s konkret?\n",
    "\n",
    "    * Arrays und Tensoren (Grundstruktur für Daten in Deep Learning)\n",
    "\n",
    "    * Broadcasting (cleverer Trick, um Tensoren flexibel zu verarbeiten)\n",
    "\n",
    "    * Stochastic Gradient Descent (SGD) (Algorithmus, mit dem das Modell \"lernt\")\n",
    "\n",
    "    * Loss Function (zeigt, wie falsch das Modell liegt – also ein Maß für den Fehler)\n",
    "\n",
    "    * Minibatches (kleine Datenpakete fürs Training)\n",
    "\n",
    "    * Mathematik hinter einem einfachen neuronalen Netz"
   ]
  },
  {
   "cell_type": "code",
   "execution_count": 8,
   "id": "a0ddf3cd",
   "metadata": {},
   "outputs": [],
   "source": [
    "from fastai.vision.all import *\n",
    "\n",
    "path = untar_data(URLs.MNIST)"
   ]
  },
  {
   "cell_type": "code",
   "execution_count": 11,
   "id": "cfe346c5",
   "metadata": {},
   "outputs": [
    {
     "data": {
      "text/plain": [
       "Path('/home/lukelo-tshakulongo/.fastai/data/mnist_png/training')"
      ]
     },
     "execution_count": 11,
     "metadata": {},
     "output_type": "execute_result"
    }
   ],
   "source": [
    "train_path = path/'training'\n",
    "train_path"
   ]
  },
  {
   "cell_type": "code",
   "execution_count": 12,
   "id": "5068aa3b",
   "metadata": {},
   "outputs": [],
   "source": [
    "# Alle Bilder und Labels einlesen\n",
    "items = get_image_files(train_path)\n",
    "labels = [parent_label(item) for item in items]"
   ]
  },
  {
   "cell_type": "code",
   "execution_count": null,
   "id": "c9ff3634",
   "metadata": {},
   "outputs": [],
   "source": []
  }
 ],
 "metadata": {
  "kernelspec": {
   "display_name": "venv",
   "language": "python",
   "name": "python3"
  },
  "language_info": {
   "codemirror_mode": {
    "name": "ipython",
    "version": 3
   },
   "file_extension": ".py",
   "mimetype": "text/x-python",
   "name": "python",
   "nbconvert_exporter": "python",
   "pygments_lexer": "ipython3",
   "version": "3.12.3"
  }
 },
 "nbformat": 4,
 "nbformat_minor": 5
}
