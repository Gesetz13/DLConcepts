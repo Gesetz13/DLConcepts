{
 "cells": [
  {
   "cell_type": "markdown",
   "id": "ab0403dc",
   "metadata": {},
   "source": [
    "# From Model to Production"
   ]
  },
  {
   "cell_type": "code",
   "execution_count": 4,
   "id": "d2fbddc1",
   "metadata": {},
   "outputs": [],
   "source": [
    "import fastbook\n",
    "fastbook.setup_book()\n",
    "     \n",
    "\n",
    "#hide\n",
    "from fastbook import *\n",
    "from fastai.vision.widgets import *\n",
    "\n",
    "\n",
    "from fastcore.all import *\n",
    "from duckduckgo_search import DDGS #  Web-Recherche, Bildersuche oder Datensammlung\n",
    "     "
   ]
  },
  {
   "cell_type": "code",
   "execution_count": 5,
   "id": "fcc148f6",
   "metadata": {},
   "outputs": [
    {
     "name": "stderr",
     "output_type": "stream",
     "text": [
      "/home/lukelo-tshakulongo/BaKoko/SC/Code/Mulandu/DLConcepts/venv/lib/python3.12/site-packages/PIL/Image.py:3570: UserWarning: image file could not be identified because AVIF support not installed\n",
      "  warnings.warn(message)\n",
      "/home/lukelo-tshakulongo/BaKoko/SC/Code/Mulandu/DLConcepts/venv/lib/python3.12/site-packages/PIL/Image.py:3570: UserWarning: image file could not be identified because AVIF support not installed\n",
      "  warnings.warn(message)\n",
      "/home/lukelo-tshakulongo/BaKoko/SC/Code/Mulandu/DLConcepts/venv/lib/python3.12/site-packages/PIL/Image.py:3570: UserWarning: image file could not be identified because AVIF support not installed\n",
      "  warnings.warn(message)\n",
      "/home/lukelo-tshakulongo/BaKoko/SC/Code/Mulandu/DLConcepts/venv/lib/python3.12/site-packages/PIL/Image.py:3570: UserWarning: image file could not be identified because AVIF support not installed\n",
      "  warnings.warn(message)\n",
      "/home/lukelo-tshakulongo/BaKoko/SC/Code/Mulandu/DLConcepts/venv/lib/python3.12/site-packages/PIL/Image.py:3570: UserWarning: image file could not be identified because AVIF support not installed\n",
      "  warnings.warn(message)\n",
      "/home/lukelo-tshakulongo/BaKoko/SC/Code/Mulandu/DLConcepts/venv/lib/python3.12/site-packages/PIL/Image.py:1043: UserWarning: Palette images with Transparency expressed in bytes should be converted to RGBA images\n",
      "  warnings.warn(\n",
      "/home/lukelo-tshakulongo/BaKoko/SC/Code/Mulandu/DLConcepts/venv/lib/python3.12/site-packages/PIL/Image.py:3570: UserWarning: image file could not be identified because AVIF support not installed\n",
      "  warnings.warn(message)\n",
      "/home/lukelo-tshakulongo/BaKoko/SC/Code/Mulandu/DLConcepts/venv/lib/python3.12/site-packages/PIL/Image.py:3570: UserWarning: image file could not be identified because AVIF support not installed\n",
      "  warnings.warn(message)\n",
      "/home/lukelo-tshakulongo/BaKoko/SC/Code/Mulandu/DLConcepts/venv/lib/python3.12/site-packages/PIL/Image.py:3570: UserWarning: image file could not be identified because AVIF support not installed\n",
      "  warnings.warn(message)\n",
      "/home/lukelo-tshakulongo/BaKoko/SC/Code/Mulandu/DLConcepts/venv/lib/python3.12/site-packages/PIL/Image.py:1043: UserWarning: Palette images with Transparency expressed in bytes should be converted to RGBA images\n",
      "  warnings.warn(\n",
      "/home/lukelo-tshakulongo/BaKoko/SC/Code/Mulandu/DLConcepts/venv/lib/python3.12/site-packages/PIL/Image.py:3570: UserWarning: image file could not be identified because AVIF support not installed\n",
      "  warnings.warn(message)\n",
      "/home/lukelo-tshakulongo/BaKoko/SC/Code/Mulandu/DLConcepts/venv/lib/python3.12/site-packages/PIL/Image.py:3570: UserWarning: image file could not be identified because AVIF support not installed\n",
      "  warnings.warn(message)\n",
      "/home/lukelo-tshakulongo/BaKoko/SC/Code/Mulandu/DLConcepts/venv/lib/python3.12/site-packages/PIL/Image.py:3570: UserWarning: image file could not be identified because AVIF support not installed\n",
      "  warnings.warn(message)\n",
      "/home/lukelo-tshakulongo/BaKoko/SC/Code/Mulandu/DLConcepts/venv/lib/python3.12/site-packages/PIL/Image.py:3570: UserWarning: image file could not be identified because AVIF support not installed\n",
      "  warnings.warn(message)\n",
      "/home/lukelo-tshakulongo/BaKoko/SC/Code/Mulandu/DLConcepts/venv/lib/python3.12/site-packages/PIL/Image.py:3570: UserWarning: image file could not be identified because AVIF support not installed\n",
      "  warnings.warn(message)\n"
     ]
    },
    {
     "ename": "RatelimitException",
     "evalue": "https://duckduckgo.com/i.js?l=wt-wt&o=json&q=80+traffic+sign+sun+photo&vqd=4-46630447403981127241917748718732911831&f=%2C%2C%2C%2C%2C&p=1 403 Ratelimit",
     "output_type": "error",
     "traceback": [
      "\u001b[31m---------------------------------------------------------------------------\u001b[39m",
      "\u001b[31mRatelimitException\u001b[39m                        Traceback (most recent call last)",
      "\u001b[36mCell\u001b[39m\u001b[36m \u001b[39m\u001b[32mIn[5]\u001b[39m\u001b[32m, line 13\u001b[39m\n\u001b[32m     11\u001b[39m download_images(dest, urls=search_images(\u001b[33mf\u001b[39m\u001b[33m'\u001b[39m\u001b[38;5;132;01m{\u001b[39;00mo\u001b[38;5;132;01m}\u001b[39;00m\u001b[33m photo\u001b[39m\u001b[33m'\u001b[39m))\n\u001b[32m     12\u001b[39m sleep(\u001b[32m30\u001b[39m)  \u001b[38;5;66;03m# Pause between searches to avoid over-loading server\u001b[39;00m\n\u001b[32m---> \u001b[39m\u001b[32m13\u001b[39m download_images(dest, urls=\u001b[43msearch_images\u001b[49m\u001b[43m(\u001b[49m\u001b[33;43mf\u001b[39;49m\u001b[33;43m'\u001b[39;49m\u001b[38;5;132;43;01m{\u001b[39;49;00m\u001b[43mo\u001b[49m\u001b[38;5;132;43;01m}\u001b[39;49;00m\u001b[33;43m sun photo\u001b[39;49m\u001b[33;43m'\u001b[39;49m\u001b[43m)\u001b[49m)\n\u001b[32m     14\u001b[39m sleep(\u001b[32m30\u001b[39m)\n\u001b[32m     15\u001b[39m download_images(dest, urls=search_images(\u001b[33mf\u001b[39m\u001b[33m'\u001b[39m\u001b[38;5;132;01m{\u001b[39;00mo\u001b[38;5;132;01m}\u001b[39;00m\u001b[33m shade photo\u001b[39m\u001b[33m'\u001b[39m))\n",
      "\u001b[36mCell\u001b[39m\u001b[36m \u001b[39m\u001b[32mIn[5]\u001b[39m\u001b[32m, line 1\u001b[39m, in \u001b[36msearch_images\u001b[39m\u001b[34m(keywords, max_images)\u001b[39m\n\u001b[32m----> \u001b[39m\u001b[32m1\u001b[39m \u001b[38;5;28;01mdef\u001b[39;00m\u001b[38;5;250m \u001b[39m\u001b[34msearch_images\u001b[39m(keywords, max_images=\u001b[32m200\u001b[39m): \u001b[38;5;28;01mreturn\u001b[39;00m L(\u001b[43mDDGS\u001b[49m\u001b[43m(\u001b[49m\u001b[43m)\u001b[49m\u001b[43m.\u001b[49m\u001b[43mimages\u001b[49m\u001b[43m(\u001b[49m\u001b[43mkeywords\u001b[49m\u001b[43m=\u001b[49m\u001b[43mkeywords\u001b[49m\u001b[43m,\u001b[49m\u001b[43m \u001b[49m\u001b[43mmax_results\u001b[49m\u001b[43m=\u001b[49m\u001b[43mmax_images\u001b[49m\u001b[43m)\u001b[49m).itemgot(\u001b[33m'\u001b[39m\u001b[33mimage\u001b[39m\u001b[33m'\u001b[39m)\n",
      "\u001b[36mFile \u001b[39m\u001b[32m~/BaKoko/SC/Code/Mulandu/DLConcepts/venv/lib/python3.12/site-packages/duckduckgo_search/duckduckgo_search.py:395\u001b[39m, in \u001b[36mDDGS.images\u001b[39m\u001b[34m(self, keywords, region, safesearch, timelimit, size, color, type_image, layout, license_image, max_results)\u001b[39m\n\u001b[32m    392\u001b[39m results: \u001b[38;5;28mlist\u001b[39m[\u001b[38;5;28mdict\u001b[39m[\u001b[38;5;28mstr\u001b[39m, \u001b[38;5;28mstr\u001b[39m]] = []\n\u001b[32m    394\u001b[39m \u001b[38;5;28;01mfor\u001b[39;00m _ \u001b[38;5;129;01min\u001b[39;00m \u001b[38;5;28mrange\u001b[39m(\u001b[32m5\u001b[39m):\n\u001b[32m--> \u001b[39m\u001b[32m395\u001b[39m     resp_content = \u001b[38;5;28;43mself\u001b[39;49m\u001b[43m.\u001b[49m\u001b[43m_get_url\u001b[49m\u001b[43m(\u001b[49m\n\u001b[32m    396\u001b[39m \u001b[43m        \u001b[49m\u001b[33;43m\"\u001b[39;49m\u001b[33;43mGET\u001b[39;49m\u001b[33;43m\"\u001b[39;49m\u001b[43m,\u001b[49m\u001b[43m \u001b[49m\u001b[33;43m\"\u001b[39;49m\u001b[33;43mhttps://duckduckgo.com/i.js\u001b[39;49m\u001b[33;43m\"\u001b[39;49m\u001b[43m,\u001b[49m\u001b[43m \u001b[49m\u001b[43mparams\u001b[49m\u001b[43m=\u001b[49m\u001b[43mpayload\u001b[49m\u001b[43m,\u001b[49m\u001b[43m \u001b[49m\u001b[43mheaders\u001b[49m\u001b[43m=\u001b[49m\u001b[43m{\u001b[49m\u001b[33;43m\"\u001b[39;49m\u001b[33;43mReferer\u001b[39;49m\u001b[33;43m\"\u001b[39;49m\u001b[43m:\u001b[49m\u001b[43m \u001b[49m\u001b[33;43m\"\u001b[39;49m\u001b[33;43mhttps://duckduckgo.com/\u001b[39;49m\u001b[33;43m\"\u001b[39;49m\u001b[43m}\u001b[49m\n\u001b[32m    397\u001b[39m \u001b[43m    \u001b[49m\u001b[43m)\u001b[49m.content\n\u001b[32m    398\u001b[39m     resp_json = json_loads(resp_content)\n\u001b[32m    399\u001b[39m     page_data = resp_json.get(\u001b[33m\"\u001b[39m\u001b[33mresults\u001b[39m\u001b[33m\"\u001b[39m, [])\n",
      "\u001b[36mFile \u001b[39m\u001b[32m~/BaKoko/SC/Code/Mulandu/DLConcepts/venv/lib/python3.12/site-packages/duckduckgo_search/duckduckgo_search.py:128\u001b[39m, in \u001b[36mDDGS._get_url\u001b[39m\u001b[34m(self, method, url, params, content, data, headers, cookies, json, timeout)\u001b[39m\n\u001b[32m    126\u001b[39m     \u001b[38;5;28;01mreturn\u001b[39;00m resp\n\u001b[32m    127\u001b[39m \u001b[38;5;28;01melif\u001b[39;00m resp.status_code \u001b[38;5;129;01min\u001b[39;00m (\u001b[32m202\u001b[39m, \u001b[32m301\u001b[39m, \u001b[32m403\u001b[39m, \u001b[32m400\u001b[39m, \u001b[32m429\u001b[39m, \u001b[32m418\u001b[39m):\n\u001b[32m--> \u001b[39m\u001b[32m128\u001b[39m     \u001b[38;5;28;01mraise\u001b[39;00m RatelimitException(\u001b[33mf\u001b[39m\u001b[33m\"\u001b[39m\u001b[38;5;132;01m{\u001b[39;00mresp.url\u001b[38;5;132;01m}\u001b[39;00m\u001b[33m \u001b[39m\u001b[38;5;132;01m{\u001b[39;00mresp.status_code\u001b[38;5;132;01m}\u001b[39;00m\u001b[33m Ratelimit\u001b[39m\u001b[33m\"\u001b[39m)\n\u001b[32m    129\u001b[39m \u001b[38;5;28;01mraise\u001b[39;00m DuckDuckGoSearchException(\u001b[33mf\u001b[39m\u001b[33m\"\u001b[39m\u001b[38;5;132;01m{\u001b[39;00mresp.url\u001b[38;5;132;01m}\u001b[39;00m\u001b[33m return None. \u001b[39m\u001b[38;5;132;01m{\u001b[39;00mparams\u001b[38;5;132;01m=}\u001b[39;00m\u001b[33m \u001b[39m\u001b[38;5;132;01m{\u001b[39;00mcontent\u001b[38;5;132;01m=}\u001b[39;00m\u001b[33m \u001b[39m\u001b[38;5;132;01m{\u001b[39;00mdata\u001b[38;5;132;01m=}\u001b[39;00m\u001b[33m\"\u001b[39m)\n",
      "\u001b[31mRatelimitException\u001b[39m: https://duckduckgo.com/i.js?l=wt-wt&o=json&q=80+traffic+sign+sun+photo&vqd=4-46630447403981127241917748718732911831&f=%2C%2C%2C%2C%2C&p=1 403 Ratelimit"
     ]
    }
   ],
   "source": [
    "def search_images(keywords, max_images=200): return L(DDGS().images(keywords=keywords, max_results=max_images)).itemgot('image')\n",
    "\n",
    "\n",
    "searches = '30 traffic sign', '80 traffic sign'\n",
    "path = Path('30_or_80')\n",
    "from time import sleep\n",
    "\n",
    "for o in searches:\n",
    "    dest = (path/o)\n",
    "    dest.mkdir(exist_ok=True, parents=True)\n",
    "    download_images(dest, urls=search_images(f'{o} photo'))\n",
    "    sleep(30)  # Pause between searches to avoid over-loading server\n",
    "    download_images(dest, urls=search_images(f'{o} sun photo'))\n",
    "    sleep(30)\n",
    "    download_images(dest, urls=search_images(f'{o} shade photo'))\n",
    "    sleep(30)\n",
    "    resize_images(path/o, max_size=400, dest=path/o)"
   ]
  },
  {
   "cell_type": "markdown",
   "id": "345e8dd1",
   "metadata": {},
   "source": []
  }
 ],
 "metadata": {
  "kernelspec": {
   "display_name": "venv",
   "language": "python",
   "name": "python3"
  },
  "language_info": {
   "codemirror_mode": {
    "name": "ipython",
    "version": 3
   },
   "file_extension": ".py",
   "mimetype": "text/x-python",
   "name": "python",
   "nbconvert_exporter": "python",
   "pygments_lexer": "ipython3",
   "version": "3.12.3"
  }
 },
 "nbformat": 4,
 "nbformat_minor": 5
}
